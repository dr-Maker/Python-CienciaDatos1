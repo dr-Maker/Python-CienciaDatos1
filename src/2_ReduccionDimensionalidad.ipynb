{
 "cells": [
  {
   "cell_type": "markdown",
   "metadata": {},
   "source": [
    "## Instalar todas las bibliotecas"
   ]
  },
  {
   "cell_type": "code",
   "execution_count": 2,
   "metadata": {},
   "outputs": [],
   "source": [
    "import pandas as pd\n",
    "import numpy as np\n",
    "from sklearn.decomposition import PCA\n",
    "from sklearn.preprocessing import StandardScaler\n",
    "import matplotlib.pyplot as plt"
   ]
  },
  {
   "cell_type": "markdown",
   "metadata": {},
   "source": [
    "## Importar Base de Datos"
   ]
  },
  {
   "cell_type": "code",
   "execution_count": 3,
   "metadata": {},
   "outputs": [],
   "source": [
    "data = pd.read_excel('BBDD_EPA_NIVELES_ABSTRACCION_CLASS-Mineria_de_datos.xlsx', sheet_name='Base datos ')"
   ]
  },
  {
   "cell_type": "markdown",
   "metadata": {},
   "source": [
    "### Transformar variables categoricas a binarias"
   ]
  },
  {
   "cell_type": "code",
   "execution_count": 45,
   "metadata": {},
   "outputs": [
    {
     "name": "stdout",
     "output_type": "stream",
     "text": [
      "Nº                      int64\n",
      "Modalidad              object\n",
      "Edad                    int64\n",
      "Semestre                int64\n",
      "Pregunta1               int64\n",
      "Pregunta2               int64\n",
      "Rotular                 int64\n",
      "ReduccionContenido      int64\n",
      "Titulo                  int64\n",
      "PromedioPreguntas     float64\n",
      "Abstraccion final      object\n",
      "dtype: object\n"
     ]
    }
   ],
   "source": [
    "## Ver tipos de variables\n",
    "print(data.dtypes)"
   ]
  },
  {
   "cell_type": "code",
   "execution_count": 4,
   "metadata": {},
   "outputs": [],
   "source": [
    "# Convertir la columna 'Modalidad' a binaria\n",
    "data['Modalidad'] = data['Modalidad'].apply(lambda x: 1 if x == 'Vespertina' else 0)"
   ]
  },
  {
   "cell_type": "code",
   "execution_count": 5,
   "metadata": {},
   "outputs": [
    {
     "name": "stdout",
     "output_type": "stream",
     "text": [
      "Index(['ABSTRACCION BUENA', 'ABSTRACCION SATISFACTORIA', 'NO ABSTRACCION'], dtype='object')\n"
     ]
    }
   ],
   "source": [
    "data['Abstraccion final'] = data['Abstraccion final'].astype('category')\n",
    "print(data['Abstraccion final'].cat.categories)"
   ]
  },
  {
   "cell_type": "code",
   "execution_count": 48,
   "metadata": {},
   "outputs": [
    {
     "name": "stdout",
     "output_type": "stream",
     "text": [
      "      Nº  Modalidad  Edad  Semestre  Pregunta1  Pregunta2  Rotular  \\\n",
      "0      1          0    25         5          2          1        4   \n",
      "1      2          0    26         5          1          1        1   \n",
      "2      3          0    21         5          2          1        1   \n",
      "3      4          0    21         5          1          1        1   \n",
      "4      5          0    24         5          3          1        1   \n",
      "..   ...        ...   ...       ...        ...        ...      ...   \n",
      "109  113          1    24         7          2          1        2   \n",
      "110  114          1    27         7          2          1        1   \n",
      "111  115          1    24         7          1          2        2   \n",
      "112  117          1    26         7          1          1        2   \n",
      "113  118          1    23         7          1          1        1   \n",
      "\n",
      "     ReduccionContenido  Titulo  PromedioPreguntas          Abstraccion final  \n",
      "0                     1       1                1.8             NO ABSTRACCION  \n",
      "1                     1       1                1.0             NO ABSTRACCION  \n",
      "2                     1       1                1.2             NO ABSTRACCION  \n",
      "3                     1       1                1.0             NO ABSTRACCION  \n",
      "4                     1       1                1.4             NO ABSTRACCION  \n",
      "..                  ...     ...                ...                        ...  \n",
      "109                   1       4                2.0  ABSTRACCION SATISFACTORIA  \n",
      "110                   1       4                1.8             NO ABSTRACCION  \n",
      "111                   1       1                1.4             NO ABSTRACCION  \n",
      "112                   1       1                1.2             NO ABSTRACCION  \n",
      "113                   1       1                1.0             NO ABSTRACCION  \n",
      "\n",
      "[114 rows x 11 columns]\n"
     ]
    }
   ],
   "source": [
    "print(data)"
   ]
  },
  {
   "cell_type": "code",
   "execution_count": 6,
   "metadata": {},
   "outputs": [
    {
     "name": "stdout",
     "output_type": "stream",
     "text": [
      "     Modalidad  Edad  Semestre  Pregunta1  Pregunta2  Rotular  \\\n",
      "0            0    25         5          2          1        4   \n",
      "1            0    26         5          1          1        1   \n",
      "2            0    21         5          2          1        1   \n",
      "3            0    21         5          1          1        1   \n",
      "4            0    24         5          3          1        1   \n",
      "..         ...   ...       ...        ...        ...      ...   \n",
      "109          1    24         7          2          1        2   \n",
      "110          1    27         7          2          1        1   \n",
      "111          1    24         7          1          2        2   \n",
      "112          1    26         7          1          1        2   \n",
      "113          1    23         7          1          1        1   \n",
      "\n",
      "     ReduccionContenido  Titulo  \n",
      "0                     1       1  \n",
      "1                     1       1  \n",
      "2                     1       1  \n",
      "3                     1       1  \n",
      "4                     1       1  \n",
      "..                  ...     ...  \n",
      "109                   1       4  \n",
      "110                   1       4  \n",
      "111                   1       1  \n",
      "112                   1       1  \n",
      "113                   1       1  \n",
      "\n",
      "[114 rows x 8 columns]\n"
     ]
    }
   ],
   "source": [
    "##Separar los dos tipos de set de variables##\n",
    "abs = data.iloc[:, 1:9] \n",
    "print(abs)\n"
   ]
  },
  {
   "cell_type": "code",
   "execution_count": null,
   "metadata": {},
   "outputs": [],
   "source": []
  },
  {
   "cell_type": "markdown",
   "metadata": {},
   "source": [
    "# Análisis de Componentes Principales \n",
    "## Para poder hacer un análisis de componentes principales, se deben realizar los siguientes pasos:\n",
    "1. Preparar en entorno de trabajo: cargar base de datos\n",
    "2. Realizar Ajustes del modelo\n",
    "3. Realizar las Descripciones del Modelo\n",
    "4. Interpretar los resultaod tecnicamente. \n",
    "\n",
    "## AJUSTE DEL MODELO\n",
    "Para ajustar el modelo lo primero que tenemos que hacer es una correlación. Esto es de utilidad para saber el comportamientos\n",
    "de las variables de la base de datos. Lo ideal es que todas las variables estén correlacionadas. Esto significa que los valores de \n",
    "correlación sean uno o estén cercanos a uno. Si son cercanacas a cero, implica que las variables no se influyen unas con otras. \n"
   ]
  },
  {
   "cell_type": "code",
   "execution_count": 50,
   "metadata": {},
   "outputs": [
    {
     "name": "stdout",
     "output_type": "stream",
     "text": [
      "     Modalidad  Edad  Semestre  Pregunta1  Pregunta2  Rotular  \\\n",
      "0            0    25         5          2          1        4   \n",
      "1            0    26         5          1          1        1   \n",
      "2            0    21         5          2          1        1   \n",
      "3            0    21         5          1          1        1   \n",
      "4            0    24         5          3          1        1   \n",
      "..         ...   ...       ...        ...        ...      ...   \n",
      "109          1    24         7          2          1        2   \n",
      "110          1    27         7          2          1        1   \n",
      "111          1    24         7          1          2        2   \n",
      "112          1    26         7          1          1        2   \n",
      "113          1    23         7          1          1        1   \n",
      "\n",
      "     ReduccionContenido  Titulo  \n",
      "0                     1       1  \n",
      "1                     1       1  \n",
      "2                     1       1  \n",
      "3                     1       1  \n",
      "4                     1       1  \n",
      "..                  ...     ...  \n",
      "109                   1       4  \n",
      "110                   1       4  \n",
      "111                   1       1  \n",
      "112                   1       1  \n",
      "113                   1       1  \n",
      "\n",
      "[114 rows x 8 columns]\n"
     ]
    }
   ],
   "source": [
    "print(abs)\n"
   ]
  },
  {
   "cell_type": "code",
   "execution_count": 51,
   "metadata": {},
   "outputs": [
    {
     "name": "stdout",
     "output_type": "stream",
     "text": [
      "                    Modalidad  Edad  Semestre  Pregunta1  Pregunta2  Rotular  \\\n",
      "Modalidad                1.00  0.47      0.03      -0.10       0.11     0.09   \n",
      "Edad                     0.47  1.00      0.14      -0.19       0.11     0.01   \n",
      "Semestre                 0.03  0.14      1.00      -0.05      -0.15     0.02   \n",
      "Pregunta1               -0.10 -0.19     -0.05       1.00       0.16    -0.01   \n",
      "Pregunta2                0.11  0.11     -0.15       0.16       1.00     0.07   \n",
      "Rotular                  0.09  0.01      0.02      -0.01       0.07     1.00   \n",
      "ReduccionContenido      -0.04 -0.03      0.01       0.07       0.05     0.13   \n",
      "Titulo                   0.05  0.02     -0.08       0.05      -0.01    -0.15   \n",
      "\n",
      "                    ReduccionContenido  Titulo  \n",
      "Modalidad                        -0.04    0.05  \n",
      "Edad                             -0.03    0.02  \n",
      "Semestre                          0.01   -0.08  \n",
      "Pregunta1                         0.07    0.05  \n",
      "Pregunta2                         0.05   -0.01  \n",
      "Rotular                           0.13   -0.15  \n",
      "ReduccionContenido                1.00    0.04  \n",
      "Titulo                            0.04    1.00  \n"
     ]
    }
   ],
   "source": [
    "## Correlaciones\n",
    "print(abs.corr().round(2))"
   ]
  },
  {
   "cell_type": "markdown",
   "metadata": {},
   "source": [
    "## Normalización\n",
    "La Normalización de las variables significa quitar las escalas y dejar que todas sean iguales. La función deja las escalas de 0 a 1 para \n",
    "todas las variables. \n",
    "Para realizar el análisis de componentes principales siempre es requisito normalizar, y ademas, solo se pueden considerar variables numericas\n"
   ]
  },
  {
   "cell_type": "code",
   "execution_count": 7,
   "metadata": {},
   "outputs": [
    {
     "name": "stdout",
     "output_type": "stream",
     "text": [
      "     Modalidad      Edad  Semestre  Pregunta1  Pregunta2   Rotular  \\\n",
      "0          0.0  0.172414       0.4   0.333333   0.000000  1.000000   \n",
      "1          0.0  0.206897       0.4   0.000000   0.000000  0.000000   \n",
      "2          0.0  0.034483       0.4   0.333333   0.000000  0.000000   \n",
      "3          0.0  0.034483       0.4   0.000000   0.000000  0.000000   \n",
      "4          0.0  0.137931       0.4   0.666667   0.000000  0.000000   \n",
      "..         ...       ...       ...        ...        ...       ...   \n",
      "109        1.0  0.137931       0.8   0.333333   0.000000  0.333333   \n",
      "110        1.0  0.241379       0.8   0.333333   0.000000  0.000000   \n",
      "111        1.0  0.137931       0.8   0.000000   0.333333  0.333333   \n",
      "112        1.0  0.206897       0.8   0.000000   0.000000  0.333333   \n",
      "113        1.0  0.103448       0.8   0.000000   0.000000  0.000000   \n",
      "\n",
      "     ReduccionContenido  Titulo  \n",
      "0                   0.0     0.0  \n",
      "1                   0.0     0.0  \n",
      "2                   0.0     0.0  \n",
      "3                   0.0     0.0  \n",
      "4                   0.0     0.0  \n",
      "..                  ...     ...  \n",
      "109                 0.0     1.0  \n",
      "110                 0.0     1.0  \n",
      "111                 0.0     0.0  \n",
      "112                 0.0     0.0  \n",
      "113                 0.0     0.0  \n",
      "\n",
      "[114 rows x 8 columns]\n"
     ]
    }
   ],
   "source": [
    "def norm01(x):\n",
    "    return (x - np.min(x)) / (np.max(x) - np.min(x))\n",
    "abs_norm = abs.apply(norm01, axis=0)\n",
    "print(abs_norm)"
   ]
  },
  {
   "cell_type": "markdown",
   "metadata": {},
   "source": [
    "## Análisis de Componentes Principales\n",
    "Del análisis de componentes principales se obtiene un proceso llamado rotación, donde se encuentra en el punto medio y se rotan los \n",
    "datos hacia el origen. Lo importante de este procedimientos es que no se altera su comportamiento, tecnicamente \n",
    "cambiamos el eje de coordenadas.\n",
    "Por otro lado, se obtienen las cargas factoriales, que son los valores de coordenadas para \n",
    "encontrar un punto particular de la base de datos. \n"
   ]
  },
  {
   "cell_type": "code",
   "execution_count": 8,
   "metadata": {},
   "outputs": [
    {
     "name": "stdout",
     "output_type": "stream",
     "text": [
      "[0.27760804 0.20921247 0.15632307 0.10671251 0.08769852 0.06999995\n",
      " 0.06031752 0.03212791]\n"
     ]
    }
   ],
   "source": [
    "#scaler = StandardScaler()\n",
    "#abs_norm_scaled = scaler.fit_transform(abs)\n",
    "\n",
    "# Realizar PCA\n",
    "pca = PCA()\n",
    "pca_result = pca.fit_transform(abs_norm)\n",
    "\n",
    "\n",
    "explained_variance = pca.explained_variance_ratio_\n",
    "print(explained_variance)"
   ]
  },
  {
   "cell_type": "code",
   "execution_count": 54,
   "metadata": {},
   "outputs": [
    {
     "data": {
      "image/png": "[encoded data removed]",
      "text/plain": [
       "<Figure size 640x480 with 1 Axes>"
      ]
     },
     "metadata": {},
     "output_type": "display_data"
    }
   ],
   "source": [
    "plt.figure()\n",
    "plt.plot(np.cumsum(explained_variance))\n",
    "plt.xlabel('Número de Componentes')\n",
    "plt.ylabel('Varianza Explicada Acumulada')\n",
    "plt.title('Scree Plot')\n",
    "plt.show()"
   ]
  },
  {
   "cell_type": "code",
   "execution_count": 55,
   "metadata": {},
   "outputs": [
    {
     "data": {
      "image/png": "[encoded data removed]",
      "text/plain": [
       "<Figure size 640x480 with 1 Axes>"
      ]
     },
     "metadata": {},
     "output_type": "display_data"
    }
   ],
   "source": [
    "plt.figure()\n",
    "plt.plot((explained_variance))\n",
    "plt.xlabel('Número de Componentes')\n",
    "plt.ylabel('Varianza Explicad')\n",
    "plt.title('Scree Plot')\n",
    "plt.show()"
   ]
  },
  {
   "cell_type": "markdown",
   "metadata": {},
   "source": [
    "## Valores de los componentes\n",
    "El análisis de componentes principales nos entrega la estimación de cada uno de los datos para los compenentes principales, \n",
    "en todo los registros de la base de datos.\n",
    "Los componentes que arroja el calculo debe ser igual al número de registros de la base de datos. Y los valores se calculan\n",
    "midiendo la distancia del origen a cada uno de los puntos (ver figura), y esa distancia es el valor de los componente. \n",
    "El modelo lo que busca es captar la mayor variabilidad de los datos y hacer una reducción de los mismos. Y para ello\n"
   ]
  },
  {
   "cell_type": "code",
   "execution_count": 11,
   "metadata": {},
   "outputs": [
    {
     "name": "stdout",
     "output_type": "stream",
     "text": [
      "          PC1       PC2       PC3\n",
      "0   -0.472768 -0.381557 -0.113083\n",
      "1   -0.483113 -0.270449 -0.452584\n",
      "2   -0.563041 -0.212404 -0.207462\n",
      "3   -0.522209 -0.264854 -0.444268\n",
      "4   -0.580416 -0.163312  0.024355\n",
      "..        ...       ...       ...\n",
      "109  0.550722  0.584111 -0.328639\n",
      "110  0.554514  0.635646 -0.367306\n",
      "111  0.518538 -0.430341 -0.223702\n",
      "112  0.492751 -0.436539 -0.447671\n",
      "113  0.449628 -0.378290 -0.476358\n",
      "\n",
      "[114 rows x 3 columns]\n"
     ]
    }
   ],
   "source": [
    "# Crear un DataFrame con las puntuaciones de los componentes principales\n",
    "cp = pd.DataFrame(pca_result, columns=[f'PC{i+1}' for i in range(pca_result.shape[1])])\n",
    "cp = cp.iloc[:, :3]  # Seleccionar las primeras 3 componentes principales\n",
    "print(cp)"
   ]
  },
  {
   "cell_type": "code",
   "execution_count": 12,
   "metadata": {},
   "outputs": [
    {
     "name": "stdout",
     "output_type": "stream",
     "text": [
      "                    Modalidad      Edad  Semestre  Pregunta1  Pregunta2  \\\n",
      "Modalidad            1.000000  0.467937  0.031301  -0.097848   0.113185   \n",
      "Edad                 0.467937  1.000000  0.135944  -0.188174   0.105548   \n",
      "Semestre             0.031301  0.135944  1.000000  -0.051134  -0.151435   \n",
      "Pregunta1           -0.097848 -0.188174 -0.051134   1.000000   0.164881   \n",
      "Pregunta2            0.113185  0.105548 -0.151435   0.164881   1.000000   \n",
      "Rotular              0.087962  0.005269  0.018510  -0.013147   0.065025   \n",
      "ReduccionContenido  -0.038866 -0.031859  0.013230   0.065849   0.052943   \n",
      "Titulo               0.048535  0.018896 -0.081777   0.053201  -0.005256   \n",
      "PC1                  0.984767  0.550113  0.034493  -0.175188   0.183280   \n",
      "PC2                 -0.069868 -0.068350 -0.142218   0.195354   0.015208   \n",
      "PC3                  0.022960 -0.087812 -0.212945   0.762415   0.732545   \n",
      "\n",
      "                     Rotular  ReduccionContenido    Titulo           PC1  \\\n",
      "Modalidad           0.087962           -0.038866  0.048535  9.847672e-01   \n",
      "Edad                0.005269           -0.031859  0.018896  5.501131e-01   \n",
      "Semestre            0.018510            0.013230 -0.081777  3.449313e-02   \n",
      "Pregunta1          -0.013147            0.065849  0.053201 -1.751885e-01   \n",
      "Pregunta2           0.065025            0.052943 -0.005256  1.832797e-01   \n",
      "Rotular             1.000000            0.130211 -0.147212  1.050923e-01   \n",
      "ReduccionContenido  0.130211            1.000000  0.036835 -4.165477e-02   \n",
      "Titulo             -0.147212            0.036835  1.000000  1.333740e-01   \n",
      "PC1                 0.105092           -0.041655  0.133374  1.000000e+00   \n",
      "PC2                -0.254655            0.048883  0.977296 -8.986776e-17   \n",
      "PC3                 0.135050            0.136000 -0.105909  3.868456e-17   \n",
      "\n",
      "                             PC2           PC3  \n",
      "Modalidad          -6.986810e-02  2.295951e-02  \n",
      "Edad               -6.834980e-02 -8.781227e-02  \n",
      "Semestre           -1.422180e-01 -2.129454e-01  \n",
      "Pregunta1           1.953540e-01  7.624151e-01  \n",
      "Pregunta2           1.520824e-02  7.325445e-01  \n",
      "Rotular            -2.546546e-01  1.350500e-01  \n",
      "ReduccionContenido  4.888301e-02  1.360004e-01  \n",
      "Titulo              9.772964e-01 -1.059088e-01  \n",
      "PC1                -8.986776e-17  3.868456e-17  \n",
      "PC2                 1.000000e+00 -7.519755e-17  \n",
      "PC3                -7.519755e-17  1.000000e+00  \n"
     ]
    }
   ],
   "source": [
    "# Concatenar los DataFrames para calcular la correlación\n",
    "combined_df = pd.concat([abs_norm.reset_index(drop=True), cp.reset_index(drop=True)], axis=1)\n",
    "\n",
    "\n",
    "\n",
    "# Calcular la correlación\n",
    "correlation_matrix = combined_df.corr(method='pearson')\n",
    "print(correlation_matrix)\n",
    "\n",
    "\n"
   ]
  },
  {
   "cell_type": "code",
   "execution_count": 13,
   "metadata": {},
   "outputs": [
    {
     "name": "stdout",
     "output_type": "stream",
     "text": [
      "[[ 0.98476723 -0.0698681   0.02295951]\n",
      " [ 0.55011308 -0.0683498  -0.08781227]\n",
      " [ 0.03449313 -0.14221798 -0.2129454 ]\n",
      " [-0.17518845  0.19535398  0.76241508]\n",
      " [ 0.18327966  0.01520824  0.73254454]\n",
      " [ 0.10509235 -0.25465465  0.13505004]\n",
      " [-0.04165477  0.04888301  0.13600044]\n",
      " [ 0.13337399  0.97729639 -0.10590881]]\n"
     ]
    }
   ],
   "source": [
    "correlation = np.corrcoef(abs_norm.T, cp.T)[:abs_norm.shape[1], abs_norm.shape[1]:]\n",
    "print(correlation)"
   ]
  }
 ],
 "metadata": {
  "kernelspec": {
   "display_name": "env",
   "language": "python",
   "name": "python3"
  },
  "language_info": {
   "codemirror_mode": {
    "name": "ipython",
    "version": 3
   },
   "file_extension": ".py",
   "mimetype": "text/x-python",
   "name": "python",
   "nbconvert_exporter": "python",
   "pygments_lexer": "ipython3",
   "version": "3.12.7"
  }
 },
 "nbformat": 4,
 "nbformat_minor": 2
}
